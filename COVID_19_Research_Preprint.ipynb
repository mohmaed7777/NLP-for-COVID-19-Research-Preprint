{
  "nbformat": 4,
  "nbformat_minor": 0,
  "metadata": {
    "colab": {
      "name": "COVID-19 Research Preprint.ipynb",
      "provenance": [],
      "authorship_tag": "ABX9TyNH2N+Q5EpOJ0XcQTkfLj94",
      "include_colab_link": true
    },
    "kernelspec": {
      "display_name": "Python 3",
      "name": "python3"
    },
    "language_info": {
      "name": "python"
    }
  },
  "cells": [
    {
      "cell_type": "markdown",
      "metadata": {
        "id": "view-in-github",
        "colab_type": "text"
      },
      "source": [
        "<a href=\"https://colab.research.google.com/github/mohmaed7777/NLP-for-COVID-19-Research-Preprint/blob/main/COVID_19_Research_Preprint.ipynb\" target=\"_parent\"><img src=\"https://colab.research.google.com/assets/colab-badge.svg\" alt=\"Open In Colab\"/></a>"
      ]
    },
    {
      "cell_type": "markdown",
      "metadata": {
        "id": "azUcFbb3YqaX"
      },
      "source": [
        "#**DataSet Describtion:**\n",
        "Everyday hardworking scientists and researchers across the globe are working on the current global COVID-19 pandemic and interesting research is being uploaded to great sites like medRxiv and bioRxiv in the form of preprints **(preprints are preliminary reports that have not been peer-reviewed. They should not be regarded as conclusive, guide clinical practice/health-related behavior, or be reported in news media as established information.)**\n",
        "\n",
        "**The current version of the data contains the basic mix of preprint Title, Abstract and Author information along with the link to access the preprint.**\n"
      ]
    },
    {
      "cell_type": "code",
      "metadata": {
        "id": "XazPKyAjZVE_",
        "colab": {
          "base_uri": "https://localhost:8080/"
        },
        "outputId": "601897a3-4d4d-4d8c-ec40-76bc9ebc8694"
      },
      "source": [
        "import pandas as pd\n",
        "import numpy as np\n",
        "import re\n",
        "import string\n",
        "import nltk\n",
        "import numpy as np\n",
        "import pandas as pd\n",
        "import seaborn as sns\n",
        "import matplotlib.pyplot as plt\n",
        "from wordcloud import WordCloud\n",
        "from collections import Counter\n",
        "nltk.download('punkt')\n",
        "nltk.download('stopwords')\n",
        "from sklearn.model_selection import train_test_split\n",
        "from sklearn.feature_extraction.text import  CountVectorizer\n",
        "import tensorflow as tf\n",
        "\n",
        "from tensorflow.keras.preprocessing.sequence import pad_sequences\n",
        "from tensorflow.keras.preprocessing.text import Tokenizer\n",
        "from tensorflow.keras.models import Sequential\n",
        "from tensorflow.keras.layers import Embedding, LSTM, Dense, Dropout\n",
        "from tensorflow.keras.callbacks import Callback, EarlyStopping\n",
        "from sklearn.metrics import confusion_matrix, classification_report, accuracy_score\n",
        "print('====================!===============!')"
      ],
      "execution_count": 1,
      "outputs": [
        {
          "output_type": "stream",
          "name": "stdout",
          "text": [
            "[nltk_data] Downloading package punkt to /root/nltk_data...\n",
            "[nltk_data]   Unzipping tokenizers/punkt.zip.\n",
            "[nltk_data] Downloading package stopwords to /root/nltk_data...\n",
            "[nltk_data]   Unzipping corpora/stopwords.zip.\n",
            "====================!===============!\n"
          ]
        }
      ]
    },
    {
      "cell_type": "code",
      "metadata": {
        "id": "2T4k6qt0aRvr"
      },
      "source": [
        "data = pd.read_csv('/content/COVID-19-Preprint-Data_ver5.csv')"
      ],
      "execution_count": 2,
      "outputs": []
    },
    {
      "cell_type": "code",
      "metadata": {
        "id": "dQTSox6wqdm_"
      },
      "source": [
        "data.rename({'Uploaded Site':'Source'}, axis=1, inplace=True)"
      ],
      "execution_count": 3,
      "outputs": []
    },
    {
      "cell_type": "code",
      "metadata": {
        "colab": {
          "base_uri": "https://localhost:8080/",
          "height": 625
        },
        "id": "2xBoDvjHqyy9",
        "outputId": "0f6df36e-16fa-43fe-f5fd-0ac0892b0089"
      },
      "source": [
        "data.head()"
      ],
      "execution_count": 4,
      "outputs": [
        {
          "output_type": "execute_result",
          "data": {
            "text/html": [
              "<div>\n",
              "<style scoped>\n",
              "    .dataframe tbody tr th:only-of-type {\n",
              "        vertical-align: middle;\n",
              "    }\n",
              "\n",
              "    .dataframe tbody tr th {\n",
              "        vertical-align: top;\n",
              "    }\n",
              "\n",
              "    .dataframe thead th {\n",
              "        text-align: right;\n",
              "    }\n",
              "</style>\n",
              "<table border=\"1\" class=\"dataframe\">\n",
              "  <thead>\n",
              "    <tr style=\"text-align: right;\">\n",
              "      <th></th>\n",
              "      <th>DOI</th>\n",
              "      <th>Date of Upload</th>\n",
              "      <th>Title of preprint</th>\n",
              "      <th>Preprint Link</th>\n",
              "      <th>Abstract</th>\n",
              "      <th>Number of Authors</th>\n",
              "      <th>Authors</th>\n",
              "      <th>Author(s) Institutions</th>\n",
              "      <th>Source</th>\n",
              "    </tr>\n",
              "  </thead>\n",
              "  <tbody>\n",
              "    <tr>\n",
              "      <th>0</th>\n",
              "      <td>10.1101/2020.06.19.20135996</td>\n",
              "      <td>2020-06-20</td>\n",
              "      <td>The support needs of Australian primary health...</td>\n",
              "      <td>http://medrxiv.org/cgi/content/short/2020.06.1...</td>\n",
              "      <td>Aim: To identify Australian primary healthcare...</td>\n",
              "      <td>7</td>\n",
              "      <td>['Elizabeth Halcomb', 'Anna Williams', 'Christ...</td>\n",
              "      <td>{\"University of Wollongong\": 6, \"University of...</td>\n",
              "      <td>medrxiv</td>\n",
              "    </tr>\n",
              "    <tr>\n",
              "      <th>1</th>\n",
              "      <td>10.1101/2020.06.18.20135103</td>\n",
              "      <td>2020-06-20</td>\n",
              "      <td>Modeling quantitative traits for COVID-19 case...</td>\n",
              "      <td>http://medrxiv.org/cgi/content/short/2020.06.1...</td>\n",
              "      <td>Medical practitioners record the condition sta...</td>\n",
              "      <td>6</td>\n",
              "      <td>['Nuria Queralt-Rosinach', 'Susan Bello', 'Rob...</td>\n",
              "      <td>{\"Leids Universitair Medisch Centrum\": 1, \"The...</td>\n",
              "      <td>medrxiv</td>\n",
              "    </tr>\n",
              "    <tr>\n",
              "      <th>2</th>\n",
              "      <td>10.1101/2020.06.19.20135905</td>\n",
              "      <td>2020-06-20</td>\n",
              "      <td>SARS-CoV-2 RT-PCR profile in 298 Indian COVID-...</td>\n",
              "      <td>http://medrxiv.org/cgi/content/short/2020.06.1...</td>\n",
              "      <td>Background: Despite being in the 5th month of ...</td>\n",
              "      <td>9</td>\n",
              "      <td>['bisakh bhattacharya', 'Rohit Kumar', 'Dr. Ve...</td>\n",
              "      <td>{\"AIIMS, New Delhi\": 8, \"All India Institute o...</td>\n",
              "      <td>medrxiv</td>\n",
              "    </tr>\n",
              "    <tr>\n",
              "      <th>3</th>\n",
              "      <td>10.1101/2020.06.19.20135491</td>\n",
              "      <td>2020-06-20</td>\n",
              "      <td>Inhaled corticosteroid use and risk COVID-19 r...</td>\n",
              "      <td>http://medrxiv.org/cgi/content/short/2020.06.1...</td>\n",
              "      <td>Background: Early descriptions of the coronavi...</td>\n",
              "      <td>33</td>\n",
              "      <td>['- The OpenSAFELY Collaborative', 'Anna Schul...</td>\n",
              "      <td>{\"\": 1, \"London School of Hygiene and Tropical...</td>\n",
              "      <td>medrxiv</td>\n",
              "    </tr>\n",
              "    <tr>\n",
              "      <th>4</th>\n",
              "      <td>10.1101/2020.06.19.20135533</td>\n",
              "      <td>2020-06-20</td>\n",
              "      <td>The immediate psychological response of the ge...</td>\n",
              "      <td>http://medrxiv.org/cgi/content/short/2020.06.1...</td>\n",
              "      <td>Background: The health and economic burden pan...</td>\n",
              "      <td>4</td>\n",
              "      <td>['Royes Joseph', 'Dhfer Alshayban', 'Jisha M L...</td>\n",
              "      <td>{\"College of Clinical Pharmacy, Imam Abdulrahm...</td>\n",
              "      <td>medrxiv</td>\n",
              "    </tr>\n",
              "  </tbody>\n",
              "</table>\n",
              "</div>"
            ],
            "text/plain": [
              "                           DOI  ...   Source\n",
              "0  10.1101/2020.06.19.20135996  ...  medrxiv\n",
              "1  10.1101/2020.06.18.20135103  ...  medrxiv\n",
              "2  10.1101/2020.06.19.20135905  ...  medrxiv\n",
              "3  10.1101/2020.06.19.20135491  ...  medrxiv\n",
              "4  10.1101/2020.06.19.20135533  ...  medrxiv\n",
              "\n",
              "[5 rows x 9 columns]"
            ]
          },
          "metadata": {},
          "execution_count": 4
        }
      ]
    },
    {
      "cell_type": "code",
      "metadata": {
        "colab": {
          "base_uri": "https://localhost:8080/"
        },
        "id": "t2FRK63qq5OR",
        "outputId": "88b5a0b5-ee04-4086-8125-987bc1231847"
      },
      "source": [
        "data.Source.value_counts()"
      ],
      "execution_count": 6,
      "outputs": [
        {
          "output_type": "execute_result",
          "data": {
            "text/plain": [
              "medrxiv    4433\n",
              "biorxiv    1102\n",
              "Name: Source, dtype: int64"
            ]
          },
          "metadata": {},
          "execution_count": 6
        }
      ]
    },
    {
      "cell_type": "code",
      "metadata": {
        "colab": {
          "base_uri": "https://localhost:8080/"
        },
        "id": "VZUMbqG2rHrK",
        "outputId": "3116a737-73cc-49cd-fc57-1f81f796c569"
      },
      "source": [
        "data.isnull().sum()"
      ],
      "execution_count": 7,
      "outputs": [
        {
          "output_type": "execute_result",
          "data": {
            "text/plain": [
              "DOI                       0\n",
              "Date of Upload            0\n",
              "Title of preprint         0\n",
              "Preprint Link             0\n",
              "Abstract                  0\n",
              "Number of Authors         0\n",
              "Authors                   0\n",
              "Author(s) Institutions    0\n",
              "Source                    0\n",
              "dtype: int64"
            ]
          },
          "metadata": {},
          "execution_count": 7
        }
      ]
    },
    {
      "cell_type": "code",
      "metadata": {
        "id": "9n4rVXJOrbBv",
        "colab": {
          "base_uri": "https://localhost:8080/"
        },
        "outputId": "6fed08a3-c9b9-4ebe-9349-372f74a54b26"
      },
      "source": [
        "data.dtypes"
      ],
      "execution_count": 8,
      "outputs": [
        {
          "output_type": "execute_result",
          "data": {
            "text/plain": [
              "DOI                       object\n",
              "Date of Upload            object\n",
              "Title of preprint         object\n",
              "Preprint Link             object\n",
              "Abstract                  object\n",
              "Number of Authors          int64\n",
              "Authors                   object\n",
              "Author(s) Institutions    object\n",
              "Source                    object\n",
              "dtype: object"
            ]
          },
          "metadata": {},
          "execution_count": 8
        }
      ]
    },
    {
      "cell_type": "code",
      "metadata": {
        "colab": {
          "base_uri": "https://localhost:8080/"
        },
        "id": "hJV-MZXm9h36",
        "outputId": "f96bfa8d-c641-4a66-e990-20d4da16b192"
      },
      "source": [
        "df_uniques = data.nunique() \n",
        "# Count number of distinct elements in specified axis. \n",
        "#Return Series with number of distinct elements. Can ignore NaN values.\n",
        "df_uniques"
      ],
      "execution_count": 9,
      "outputs": [
        {
          "output_type": "execute_result",
          "data": {
            "text/plain": [
              "DOI                       5535\n",
              "Date of Upload             151\n",
              "Title of preprint         5532\n",
              "Preprint Link             5535\n",
              "Abstract                  5530\n",
              "Number of Authors           73\n",
              "Authors                   5414\n",
              "Author(s) Institutions    5352\n",
              "Source                       2\n",
              "dtype: int64"
            ]
          },
          "metadata": {},
          "execution_count": 9
        }
      ]
    },
    {
      "cell_type": "code",
      "metadata": {
        "id": "tjJSzNcdre7R",
        "colab": {
          "base_uri": "https://localhost:8080/"
        },
        "outputId": "bd7261e8-2cf5-421e-d0ae-3c9136bbb314"
      },
      "source": [
        "binary_vals = list(df_uniques[df_uniques == 2].index) # Create alist for our bin_vales (composed of at least two values)\n",
        "binary_vals"
      ],
      "execution_count": 10,
      "outputs": [
        {
          "output_type": "execute_result",
          "data": {
            "text/plain": [
              "['Source']"
            ]
          },
          "metadata": {},
          "execution_count": 10
        }
      ]
    },
    {
      "cell_type": "code",
      "metadata": {
        "id": "7fFH9p4J9nQT"
      },
      "source": [
        "from sklearn.preprocessing import LabelBinarizer"
      ],
      "execution_count": 12,
      "outputs": []
    },
    {
      "cell_type": "code",
      "metadata": {
        "id": "6C36-1fx-G6e"
      },
      "source": [
        "lb = LabelBinarizer()"
      ],
      "execution_count": 13,
      "outputs": []
    },
    {
      "cell_type": "code",
      "metadata": {
        "id": "kbxWdDuu9zRk"
      },
      "source": [
        "for col in binary_vals:\n",
        "  data[col] = lb.fit_transform(data[col])"
      ],
      "execution_count": 14,
      "outputs": []
    },
    {
      "cell_type": "code",
      "metadata": {
        "colab": {
          "base_uri": "https://localhost:8080/"
        },
        "id": "0bjyaqpx-E78",
        "outputId": "7fd28bf7-15c4-429f-b931-b9fa12ceb591"
      },
      "source": [
        "data.Source.dtypes"
      ],
      "execution_count": 15,
      "outputs": [
        {
          "output_type": "execute_result",
          "data": {
            "text/plain": [
              "dtype('int64')"
            ]
          },
          "metadata": {},
          "execution_count": 15
        }
      ]
    },
    {
      "cell_type": "code",
      "metadata": {
        "colab": {
          "base_uri": "https://localhost:8080/"
        },
        "id": "L2H1D2DN-NfP",
        "outputId": "b19047bd-25f9-4ec5-a7c9-a4949489ff1d"
      },
      "source": [
        "data.Source.value_counts()"
      ],
      "execution_count": 16,
      "outputs": [
        {
          "output_type": "execute_result",
          "data": {
            "text/plain": [
              "1    4433\n",
              "0    1102\n",
              "Name: Source, dtype: int64"
            ]
          },
          "metadata": {},
          "execution_count": 16
        }
      ]
    },
    {
      "cell_type": "code",
      "metadata": {
        "colab": {
          "base_uri": "https://localhost:8080/"
        },
        "id": "OvJj_gwR-U_p",
        "outputId": "f2e29f94-bcb9-4d61-cf5b-105a4d3ac36b"
      },
      "source": [
        "data.columns"
      ],
      "execution_count": 17,
      "outputs": [
        {
          "output_type": "execute_result",
          "data": {
            "text/plain": [
              "Index(['DOI', 'Date of Upload', 'Title of preprint', 'Preprint Link',\n",
              "       'Abstract', 'Number of Authors', 'Authors', 'Author(s) Institutions',\n",
              "       'Source'],\n",
              "      dtype='object')"
            ]
          },
          "metadata": {},
          "execution_count": 17
        }
      ]
    },
    {
      "cell_type": "code",
      "metadata": {
        "id": "XfyKY7ik-c2Z"
      },
      "source": [
        "data.drop(['DOI', 'Date of Upload', 'Title of preprint', 'Preprint Link', 'Number of Authors', 'Authors', 'Author(s) Institutions'], axis=1, inplace=True)"
      ],
      "execution_count": 18,
      "outputs": []
    },
    {
      "cell_type": "code",
      "metadata": {
        "colab": {
          "base_uri": "https://localhost:8080/",
          "height": 206
        },
        "id": "zGaZ6Ixq-zfx",
        "outputId": "ade08a03-b20f-4928-83bd-279a0f36ad1e"
      },
      "source": [
        "data.head()"
      ],
      "execution_count": 19,
      "outputs": [
        {
          "output_type": "execute_result",
          "data": {
            "text/html": [
              "<div>\n",
              "<style scoped>\n",
              "    .dataframe tbody tr th:only-of-type {\n",
              "        vertical-align: middle;\n",
              "    }\n",
              "\n",
              "    .dataframe tbody tr th {\n",
              "        vertical-align: top;\n",
              "    }\n",
              "\n",
              "    .dataframe thead th {\n",
              "        text-align: right;\n",
              "    }\n",
              "</style>\n",
              "<table border=\"1\" class=\"dataframe\">\n",
              "  <thead>\n",
              "    <tr style=\"text-align: right;\">\n",
              "      <th></th>\n",
              "      <th>Abstract</th>\n",
              "      <th>Source</th>\n",
              "    </tr>\n",
              "  </thead>\n",
              "  <tbody>\n",
              "    <tr>\n",
              "      <th>0</th>\n",
              "      <td>Aim: To identify Australian primary healthcare...</td>\n",
              "      <td>1</td>\n",
              "    </tr>\n",
              "    <tr>\n",
              "      <th>1</th>\n",
              "      <td>Medical practitioners record the condition sta...</td>\n",
              "      <td>1</td>\n",
              "    </tr>\n",
              "    <tr>\n",
              "      <th>2</th>\n",
              "      <td>Background: Despite being in the 5th month of ...</td>\n",
              "      <td>1</td>\n",
              "    </tr>\n",
              "    <tr>\n",
              "      <th>3</th>\n",
              "      <td>Background: Early descriptions of the coronavi...</td>\n",
              "      <td>1</td>\n",
              "    </tr>\n",
              "    <tr>\n",
              "      <th>4</th>\n",
              "      <td>Background: The health and economic burden pan...</td>\n",
              "      <td>1</td>\n",
              "    </tr>\n",
              "  </tbody>\n",
              "</table>\n",
              "</div>"
            ],
            "text/plain": [
              "                                            Abstract  Source\n",
              "0  Aim: To identify Australian primary healthcare...       1\n",
              "1  Medical practitioners record the condition sta...       1\n",
              "2  Background: Despite being in the 5th month of ...       1\n",
              "3  Background: Early descriptions of the coronavi...       1\n",
              "4  Background: The health and economic burden pan...       1"
            ]
          },
          "metadata": {},
          "execution_count": 19
        }
      ]
    },
    {
      "cell_type": "code",
      "metadata": {
        "colab": {
          "base_uri": "https://localhost:8080/"
        },
        "id": "TkjYaEM2-1Mi",
        "outputId": "5fbc3e93-44bb-46b7-dd83-f4f5743717cc"
      },
      "source": [
        "data.isnull().sum()"
      ],
      "execution_count": 20,
      "outputs": [
        {
          "output_type": "execute_result",
          "data": {
            "text/plain": [
              "Abstract    0\n",
              "Source      0\n",
              "dtype: int64"
            ]
          },
          "metadata": {},
          "execution_count": 20
        }
      ]
    },
    {
      "cell_type": "code",
      "metadata": {
        "colab": {
          "base_uri": "https://localhost:8080/",
          "height": 297
        },
        "id": "R95D_icg_8A1",
        "outputId": "cd2a8d5a-19d2-4ad0-8ab4-5521b98be9f6"
      },
      "source": [
        "counts = data['Source'].value_counts()\n",
        "sns.barplot(x=counts.index, y=counts)\n",
        "plt.xlabel('Source')\n",
        "plt.ylabel('Count')"
      ],
      "execution_count": 21,
      "outputs": [
        {
          "output_type": "execute_result",
          "data": {
            "text/plain": [
              "Text(0, 0.5, 'Count')"
            ]
          },
          "metadata": {},
          "execution_count": 21
        },
        {
          "output_type": "display_data",
          "data": {
            "image/png": "[encoded data removed]",
            "text/plain": [
              "<Figure size 432x288 with 1 Axes>"
            ]
          },
          "metadata": {
            "needs_background": "light"
          }
        }
      ]
    },
    {
      "cell_type": "markdown",
      "metadata": {
        "id": "J4VJAOUCtLS6"
      },
      "source": [
        "#**Text preprocessing:**"
      ]
    },
    {
      "cell_type": "code",
      "metadata": {
        "id": "K4r8IiegtFuI"
      },
      "source": [
        "from tensorflow.keras.preprocessing.text import Tokenizer\n",
        "from tensorflow.keras.preprocessing.sequence import pad_sequences"
      ],
      "execution_count": 22,
      "outputs": []
    },
    {
      "cell_type": "code",
      "metadata": {
        "id": "5BRDk4JOFrTO",
        "outputId": "d6736b1c-e0ce-40e9-d571-e77b976679ff",
        "colab": {
          "base_uri": "https://localhost:8080/"
        }
      },
      "source": [
        "len(data['Abstract'])"
      ],
      "execution_count": 23,
      "outputs": [
        {
          "output_type": "execute_result",
          "data": {
            "text/plain": [
              "5535"
            ]
          },
          "metadata": {},
          "execution_count": 23
        }
      ]
    },
    {
      "cell_type": "code",
      "metadata": {
        "id": "zUAtR3_GF27Y",
        "outputId": "ec8fe741-f428-4708-f893-09760edafd71",
        "colab": {
          "base_uri": "https://localhost:8080/"
        }
      },
      "source": [
        "data.shape"
      ],
      "execution_count": 24,
      "outputs": [
        {
          "output_type": "execute_result",
          "data": {
            "text/plain": [
              "(5535, 2)"
            ]
          },
          "metadata": {},
          "execution_count": 24
        }
      ]
    },
    {
      "cell_type": "code",
      "metadata": {
        "id": "o76J7NWzF_CS",
        "outputId": "2f1a5000-9f04-46f1-8c5b-a75faf93e3d4",
        "colab": {
          "base_uri": "https://localhost:8080/"
        }
      },
      "source": [
        "data['Abstract'].nunique()"
      ],
      "execution_count": 33,
      "outputs": [
        {
          "output_type": "execute_result",
          "data": {
            "text/plain": [
              "5530"
            ]
          },
          "metadata": {},
          "execution_count": 33
        }
      ]
    },
    {
      "cell_type": "code",
      "metadata": {
        "id": "anfUdlMGIEjm",
        "outputId": "78526f13-e038-4d73-b83a-c0627298031f",
        "colab": {
          "base_uri": "https://localhost:8080/",
          "height": 236
        }
      },
      "source": [
        "data['Abstract'][0]"
      ],
      "execution_count": 40,
      "outputs": [
        {
          "output_type": "execute_result",
          "data": {
            "application/vnd.google.colaboratory.intrinsic+json": {
              "type": "string"
            },
            "text/plain": [
              "\"Aim: To identify Australian primary healthcare nurses immediate support needs during the COVID-19 pandemic. Background: COVID-19 has had widespread implications for primary healthcare nurses. Supporting these nurses' capacity to deliver quality care ensures that ongoing health needs can be met. Methods: Primary healthcare nurses were recruited to an online survey via social media and professional organisations in April 2020. Results: Six-hundred and thirty-seven responses were included in analysis. Participants provided 1213 statements about perceived supports required to provide quality clinical care. From these, seven key categories emerged, namely; personal protective equipment, communication, funding, industrial issues, self-care, workplace factors and valuing nurses. Conclusion: A number of key issues relating to personal health and safety, care quality, and job security need to be addressed to support primary healthcare nurses during the COVID-19 pandemic. Addressing these support issues can assist in retaining nurses and optimising the role of primary healthcare nurses during a pandemic. Implications for nursing management: Responding to the needs of primary healthcare nurses has the potential to facilitate their role in providing community-based healthcare. This knowledge can guide the provision of support for primary healthcare nurses during the current pandemic, as well as informing planning for future health crises.\""
            ]
          },
          "metadata": {},
          "execution_count": 40
        }
      ]
    },
    {
      "cell_type": "code",
      "metadata": {
        "id": "w8WX-KniHzbf",
        "outputId": "5110def8-f3e5-4110-a139-7c2382177b7f",
        "colab": {
          "base_uri": "https://localhost:8080/"
        }
      },
      "source": [
        "print(len(data['Abstract'][0]))"
      ],
      "execution_count": 38,
      "outputs": [
        {
          "output_type": "stream",
          "name": "stdout",
          "text": [
            "1450\n"
          ]
        }
      ]
    },
    {
      "cell_type": "code",
      "metadata": {
        "id": "VnHNYxXxIm9c",
        "outputId": "9c6e8545-64a7-4222-c139-89b1d11e3a47",
        "colab": {
          "base_uri": "https://localhost:8080/"
        }
      },
      "source": [
        "print(len(data['Abstract'][1]))"
      ],
      "execution_count": 41,
      "outputs": [
        {
          "output_type": "stream",
          "name": "stdout",
          "text": [
            "1155\n"
          ]
        }
      ]
    },
    {
      "cell_type": "code",
      "metadata": {
        "id": "AIprbb45IwKh",
        "outputId": "54a67355-ff62-41a3-e129-bd0838ef3f39",
        "colab": {
          "base_uri": "https://localhost:8080/",
          "height": 199
        }
      },
      "source": [
        "data['Abstract'][1]"
      ],
      "execution_count": 42,
      "outputs": [
        {
          "output_type": "execute_result",
          "data": {
            "application/vnd.google.colaboratory.intrinsic+json": {
              "type": "string"
            },
            "text/plain": [
              "'Medical practitioners record the condition status of a patient through qualitative and quantitative observations. The measurement of vital signs and molecular parameters in the clinics gives a complementary description of abnormal phenotypes associated with the progression of a disease. The Clinical Measurement Ontology (CMO) is used to standardize annotations of these measurable traits. However, researchers have no way to describe how these quantitative traits relate to phenotype concepts in a machine-readable manner. Using the WHO clinical case report form standard for the COVID-19 pandemic, we modeled quantitative traits and developed OWL axioms to formally relate clinical measurement terms with anatomical, biomolecular entities and phenotypes annotated with the Uber-anatomy ontology (Uberon), Chemical Entities of Biological Interest (ChEBI) and the Phenotype and Trait Ontology (PATO) biomedical ontologies. The formal description of these relations allows interoperability between clinical and biological descriptions, and facilitates automated reasoning for analysis of patterns over quantitative and qualitative biomedical observations.'"
            ]
          },
          "metadata": {},
          "execution_count": 42
        }
      ]
    },
    {
      "cell_type": "code",
      "metadata": {
        "id": "bcYtmFJttsP1"
      },
      "source": [
        "vocab_size = 1800\n",
        "embedding_dim = 20\n",
        "max_length = 100\n",
        "trunc_type='post'\n",
        "padding_type='post'\n",
        "oov_tok = \"<OOV>\"\n",
        "training_size = 5530"
      ],
      "execution_count": 63,
      "outputs": []
    },
    {
      "cell_type": "code",
      "metadata": {
        "id": "Tw_9lEhftyrU"
      },
      "source": [
        "from sklearn.model_selection import train_test_split\n",
        "\n",
        "X_train, X_test, y_train, y_test = train_test_split(data['Abstract'],data['Source'],test_size = 0.3)"
      ],
      "execution_count": 64,
      "outputs": []
    },
    {
      "cell_type": "code",
      "metadata": {
        "id": "jFonXBPYujCQ"
      },
      "source": [
        "#X_train, X_test, y_train, y_test = X_train.tolist(), X_test.tolist() , y_train.tolist() , y_test.tolist()\n",
        "tokenizer = Tokenizer(num_words=vocab_size, oov_token=oov_tok)\n",
        "tokenizer.fit_on_texts(X_train)\n",
        "\n",
        "word_index = tokenizer.word_index\n",
        "\n",
        "training_sequences = tokenizer.texts_to_sequences(X_train)\n",
        "training_padded = pad_sequences(training_sequences, maxlen=max_length, padding=padding_type, truncating=trunc_type)\n",
        "\n",
        "testing_sequences = tokenizer.texts_to_sequences(X_test)\n",
        "testing_padded = pad_sequences(testing_sequences, maxlen=max_length, padding=padding_type, truncating=trunc_type)"
      ],
      "execution_count": 65,
      "outputs": []
    },
    {
      "cell_type": "code",
      "metadata": {
        "id": "LnskcUCVuxd0"
      },
      "source": [
        "training_padded = np.array(training_padded)\n",
        "training_labels = np.array(y_train)\n",
        "testing_padded = np.array(testing_padded)\n",
        "testing_labels = np.array(y_test)"
      ],
      "execution_count": 66,
      "outputs": []
    },
    {
      "cell_type": "code",
      "metadata": {
        "id": "j8-7eVATu02h"
      },
      "source": [
        "\n",
        "model = tf.keras.Sequential([\n",
        "    tf.keras.layers.Embedding(vocab_size, 64),\n",
        "    tf.keras.layers.Bidirectional(tf.keras.layers.LSTM(64, return_sequences=True)),\n",
        "    tf.keras.layers.Bidirectional(tf.keras.layers.LSTM(32)),\n",
        "    tf.keras.layers.Dense(64, activation='relu'),\n",
        "    tf.keras.layers.Dense(1, activation='sigmoid')\n",
        "])"
      ],
      "execution_count": 67,
      "outputs": []
    },
    {
      "cell_type": "code",
      "metadata": {
        "id": "SpK2BPSqvO_P"
      },
      "source": [
        "model.compile(loss='binary_crossentropy',optimizer='adam',metrics=['accuracy'])"
      ],
      "execution_count": 68,
      "outputs": []
    },
    {
      "cell_type": "code",
      "metadata": {
        "id": "vIegaiG5u9Nl",
        "colab": {
          "base_uri": "https://localhost:8080/"
        },
        "outputId": "49f36a5d-4163-482e-de70-5f427aab7701"
      },
      "source": [
        "model.summary()"
      ],
      "execution_count": 69,
      "outputs": [
        {
          "output_type": "stream",
          "name": "stdout",
          "text": [
            "Model: \"sequential_2\"\n",
            "_________________________________________________________________\n",
            "Layer (type)                 Output Shape              Param #   \n",
            "=================================================================\n",
            "embedding_2 (Embedding)      (None, None, 64)          115200    \n",
            "_________________________________________________________________\n",
            "bidirectional_4 (Bidirection (None, None, 128)         66048     \n",
            "_________________________________________________________________\n",
            "bidirectional_5 (Bidirection (None, 64)                41216     \n",
            "_________________________________________________________________\n",
            "dense_4 (Dense)              (None, 64)                4160      \n",
            "_________________________________________________________________\n",
            "dense_5 (Dense)              (None, 1)                 65        \n",
            "=================================================================\n",
            "Total params: 226,689\n",
            "Trainable params: 226,689\n",
            "Non-trainable params: 0\n",
            "_________________________________________________________________\n"
          ]
        }
      ]
    },
    {
      "cell_type": "code",
      "metadata": {
        "id": "sMfsYouJx8JX",
        "outputId": "873502f8-f3d7-4b44-ed04-840f0d52810d",
        "colab": {
          "base_uri": "https://localhost:8080/"
        }
      },
      "source": [
        "num_epochs = 20\n",
        "model.fit(training_padded, training_labels, epochs=num_epochs, validation_data=(testing_padded, testing_labels), verbose=2)"
      ],
      "execution_count": 71,
      "outputs": [
        {
          "output_type": "stream",
          "name": "stdout",
          "text": [
            "Epoch 1/20\n",
            "122/122 - 22s - loss: 0.0010 - accuracy: 0.9997 - val_loss: 0.6269 - val_accuracy: 0.9247\n",
            "Epoch 2/20\n",
            "122/122 - 22s - loss: 9.1212e-04 - accuracy: 0.9997 - val_loss: 0.6431 - val_accuracy: 0.9247\n",
            "Epoch 3/20\n",
            "122/122 - 22s - loss: 8.5721e-04 - accuracy: 0.9997 - val_loss: 0.6509 - val_accuracy: 0.9253\n",
            "Epoch 4/20\n",
            "122/122 - 22s - loss: 6.7257e-04 - accuracy: 0.9997 - val_loss: 0.6816 - val_accuracy: 0.9253\n",
            "Epoch 5/20\n",
            "122/122 - 22s - loss: 8.4884e-04 - accuracy: 0.9997 - val_loss: 0.6568 - val_accuracy: 0.9259\n",
            "Epoch 6/20\n",
            "122/122 - 22s - loss: 3.2022e-04 - accuracy: 1.0000 - val_loss: 0.7115 - val_accuracy: 0.9229\n",
            "Epoch 7/20\n",
            "122/122 - 23s - loss: 8.7523e-05 - accuracy: 1.0000 - val_loss: 0.7152 - val_accuracy: 0.9253\n",
            "Epoch 8/20\n",
            "122/122 - 22s - loss: 5.2063e-05 - accuracy: 1.0000 - val_loss: 0.7235 - val_accuracy: 0.9266\n",
            "Epoch 9/20\n",
            "122/122 - 22s - loss: 4.0211e-05 - accuracy: 1.0000 - val_loss: 0.7330 - val_accuracy: 0.9259\n",
            "Epoch 10/20\n",
            "122/122 - 22s - loss: 3.2116e-05 - accuracy: 1.0000 - val_loss: 0.7425 - val_accuracy: 0.9253\n",
            "Epoch 11/20\n",
            "122/122 - 22s - loss: 2.5879e-05 - accuracy: 1.0000 - val_loss: 0.7502 - val_accuracy: 0.9253\n",
            "Epoch 12/20\n",
            "122/122 - 22s - loss: 2.1486e-05 - accuracy: 1.0000 - val_loss: 0.7570 - val_accuracy: 0.9259\n",
            "Epoch 13/20\n",
            "122/122 - 22s - loss: 1.8232e-05 - accuracy: 1.0000 - val_loss: 0.7654 - val_accuracy: 0.9253\n",
            "Epoch 14/20\n",
            "122/122 - 22s - loss: 1.5643e-05 - accuracy: 1.0000 - val_loss: 0.7719 - val_accuracy: 0.9266\n",
            "Epoch 15/20\n",
            "122/122 - 22s - loss: 1.3610e-05 - accuracy: 1.0000 - val_loss: 0.7799 - val_accuracy: 0.9266\n",
            "Epoch 16/20\n",
            "122/122 - 22s - loss: 1.2059e-05 - accuracy: 1.0000 - val_loss: 0.7885 - val_accuracy: 0.9253\n",
            "Epoch 17/20\n",
            "122/122 - 22s - loss: 1.0749e-05 - accuracy: 1.0000 - val_loss: 0.7956 - val_accuracy: 0.9247\n",
            "Epoch 18/20\n",
            "122/122 - 22s - loss: 9.3948e-06 - accuracy: 1.0000 - val_loss: 0.8065 - val_accuracy: 0.9241\n",
            "Epoch 19/20\n",
            "122/122 - 22s - loss: 8.5677e-06 - accuracy: 1.0000 - val_loss: 0.8074 - val_accuracy: 0.9247\n",
            "Epoch 20/20\n",
            "122/122 - 22s - loss: 7.8639e-06 - accuracy: 1.0000 - val_loss: 0.8175 - val_accuracy: 0.9247\n"
          ]
        },
        {
          "output_type": "execute_result",
          "data": {
            "text/plain": [
              "<keras.callbacks.History at 0x7f5e418ab750>"
            ]
          },
          "metadata": {},
          "execution_count": 71
        }
      ]
    },
    {
      "cell_type": "code",
      "metadata": {
        "id": "g0Ps9CxiPXvF",
        "outputId": "83b452a2-963a-4b7d-8f40-df5db1f1cab5",
        "colab": {
          "base_uri": "https://localhost:8080/"
        }
      },
      "source": [
        "results = model.evaluate(testing_padded, y_test, verbose=0)\n",
        "print(\"    Test Loss: {:.5f}\".format(results[0]))\n",
        "print(\"Test Accuracy: {:.2f}%\".format(results[1] * 100))"
      ],
      "execution_count": 72,
      "outputs": [
        {
          "output_type": "stream",
          "name": "stdout",
          "text": [
            "    Test Loss: 0.81753\n",
            "Test Accuracy: 92.47%\n"
          ]
        }
      ]
    },
    {
      "cell_type": "code",
      "metadata": {
        "id": "yeeiGQlxSqgO",
        "outputId": "d124aec4-7e7e-4de5-e30a-961f2ed0f4e1",
        "colab": {
          "base_uri": "https://localhost:8080/"
        }
      },
      "source": [
        "testing_padded.shape"
      ],
      "execution_count": 73,
      "outputs": [
        {
          "output_type": "execute_result",
          "data": {
            "text/plain": [
              "(1661, 100)"
            ]
          },
          "metadata": {},
          "execution_count": 73
        }
      ]
    },
    {
      "cell_type": "code",
      "metadata": {
        "id": "MncCfnshSiPv",
        "outputId": "bca30c34-f512-4923-d0c1-1280c1bc215c",
        "colab": {
          "base_uri": "https://localhost:8080/"
        }
      },
      "source": [
        "y_pred = model.predict(testing_padded)\n",
        "print(y_pred[:4])"
      ],
      "execution_count": 74,
      "outputs": [
        {
          "output_type": "stream",
          "name": "stdout",
          "text": [
            "[[5.8780703e-08]\n",
            " [1.0000000e+00]\n",
            " [1.0000000e+00]\n",
            " [1.0000000e+00]]\n"
          ]
        }
      ]
    }
  ]
}