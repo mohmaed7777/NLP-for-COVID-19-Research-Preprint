{
  "nbformat": 4,
  "nbformat_minor": 0,
  "metadata": {
    "colab": {
      "name": "COVID-19 Research Preprint.ipynb",
      "provenance": [],
      "authorship_tag": "ABX9TyMHYzAY82jAd5ScGfZARDKY",
      "include_colab_link": true
    },
    "kernelspec": {
      "display_name": "Python 3",
      "name": "python3"
    },
    "language_info": {
      "name": "python"
    }
  },
  "cells": [
    {
      "cell_type": "markdown",
      "metadata": {
        "id": "view-in-github",
        "colab_type": "text"
      },
      "source": [
        "<a href=\"https://colab.research.google.com/github/mohmaed7777/NLP-for-COVID-19-Research-Preprint/blob/main/COVID_19_Research_Preprint.ipynb\" target=\"_parent\"><img src=\"https://colab.research.google.com/assets/colab-badge.svg\" alt=\"Open In Colab\"/></a>"
      ]
    },
    {
      "cell_type": "code",
      "metadata": {
        "id": "XazPKyAjZVE_",
        "colab": {
          "base_uri": "https://localhost:8080/"
        },
        "outputId": "aaab2ca2-2dba-472a-c5aa-dcee90ff0550"
      },
      "source": [
        "import pandas as pd\n",
        "import numpy as np\n",
        "import re\n",
        "import string\n",
        "import nltk\n",
        "import numpy as np\n",
        "import pandas as pd\n",
        "import seaborn as sns\n",
        "import matplotlib.pyplot as plt\n",
        "from wordcloud import WordCloud\n",
        "from collections import Counter\n",
        "nltk.download('punkt')\n",
        "nltk.download('stopwords')\n",
        "from sklearn.model_selection import train_test_split\n",
        "from sklearn.feature_extraction.text import  CountVectorizer\n",
        "import tensorflow as tf\n",
        "\n",
        "from tensorflow.keras.preprocessing.sequence import pad_sequences\n",
        "from tensorflow.keras.preprocessing.text import Tokenizer\n",
        "from tensorflow.keras.models import Sequential\n",
        "from tensorflow.keras.layers import Embedding, LSTM, Dense, Dropout\n",
        "from tensorflow.keras.callbacks import Callback, EarlyStopping\n",
        "from sklearn.metrics import confusion_matrix, classification_report, accuracy_score\n",
        "print('====================!===============!')"
      ],
      "execution_count": 162,
      "outputs": [
        {
          "output_type": "stream",
          "name": "stdout",
          "text": [
            "[nltk_data] Downloading package punkt to /root/nltk_data...\n",
            "[nltk_data]   Package punkt is already up-to-date!\n",
            "[nltk_data] Downloading package stopwords to /root/nltk_data...\n",
            "[nltk_data]   Package stopwords is already up-to-date!\n",
            "====================!===============!\n"
          ]
        }
      ]
    },
    {
      "cell_type": "code",
      "metadata": {
        "id": "2T4k6qt0aRvr"
      },
      "source": [
        "data = pd.read_csv('/content/COVID-19-Preprint-Data_ver5.csv')"
      ],
      "execution_count": 163,
      "outputs": []
    },
    {
      "cell_type": "code",
      "metadata": {
        "id": "dQTSox6wqdm_"
      },
      "source": [
        "data.rename({'Uploaded Site':'Source'}, axis=1, inplace=True)"
      ],
      "execution_count": 164,
      "outputs": []
    },
    {
      "cell_type": "code",
      "metadata": {
        "colab": {
          "base_uri": "https://localhost:8080/",
          "height": 610
        },
        "id": "2xBoDvjHqyy9",
        "outputId": "67ddb304-f473-466e-a078-6b64d2054c81"
      },
      "source": [
        "data.head()"
      ],
      "execution_count": 165,
      "outputs": [
        {
          "output_type": "execute_result",
          "data": {
            "text/html": [
              "<div>\n",
              "<style scoped>\n",
              "    .dataframe tbody tr th:only-of-type {\n",
              "        vertical-align: middle;\n",
              "    }\n",
              "\n",
              "    .dataframe tbody tr th {\n",
              "        vertical-align: top;\n",
              "    }\n",
              "\n",
              "    .dataframe thead th {\n",
              "        text-align: right;\n",
              "    }\n",
              "</style>\n",
              "<table border=\"1\" class=\"dataframe\">\n",
              "  <thead>\n",
              "    <tr style=\"text-align: right;\">\n",
              "      <th></th>\n",
              "      <th>DOI</th>\n",
              "      <th>Date of Upload</th>\n",
              "      <th>Title of preprint</th>\n",
              "      <th>Preprint Link</th>\n",
              "      <th>Abstract</th>\n",
              "      <th>Number of Authors</th>\n",
              "      <th>Authors</th>\n",
              "      <th>Author(s) Institutions</th>\n",
              "      <th>Source</th>\n",
              "    </tr>\n",
              "  </thead>\n",
              "  <tbody>\n",
              "    <tr>\n",
              "      <th>0</th>\n",
              "      <td>10.1101/2020.06.19.20135996</td>\n",
              "      <td>2020-06-20</td>\n",
              "      <td>The support needs of Australian primary health...</td>\n",
              "      <td>http://medrxiv.org/cgi/content/short/2020.06.1...</td>\n",
              "      <td>Aim: To identify Australian primary healthcare...</td>\n",
              "      <td>7</td>\n",
              "      <td>['Elizabeth Halcomb', 'Anna Williams', 'Christ...</td>\n",
              "      <td>{\"University of Wollongong\": 6, \"University of...</td>\n",
              "      <td>medrxiv</td>\n",
              "    </tr>\n",
              "    <tr>\n",
              "      <th>1</th>\n",
              "      <td>10.1101/2020.06.18.20135103</td>\n",
              "      <td>2020-06-20</td>\n",
              "      <td>Modeling quantitative traits for COVID-19 case...</td>\n",
              "      <td>http://medrxiv.org/cgi/content/short/2020.06.1...</td>\n",
              "      <td>Medical practitioners record the condition sta...</td>\n",
              "      <td>6</td>\n",
              "      <td>['Nuria Queralt-Rosinach', 'Susan Bello', 'Rob...</td>\n",
              "      <td>{\"Leids Universitair Medisch Centrum\": 1, \"The...</td>\n",
              "      <td>medrxiv</td>\n",
              "    </tr>\n",
              "    <tr>\n",
              "      <th>2</th>\n",
              "      <td>10.1101/2020.06.19.20135905</td>\n",
              "      <td>2020-06-20</td>\n",
              "      <td>SARS-CoV-2 RT-PCR profile in 298 Indian COVID-...</td>\n",
              "      <td>http://medrxiv.org/cgi/content/short/2020.06.1...</td>\n",
              "      <td>Background: Despite being in the 5th month of ...</td>\n",
              "      <td>9</td>\n",
              "      <td>['bisakh bhattacharya', 'Rohit Kumar', 'Dr. Ve...</td>\n",
              "      <td>{\"AIIMS, New Delhi\": 8, \"All India Institute o...</td>\n",
              "      <td>medrxiv</td>\n",
              "    </tr>\n",
              "    <tr>\n",
              "      <th>3</th>\n",
              "      <td>10.1101/2020.06.19.20135491</td>\n",
              "      <td>2020-06-20</td>\n",
              "      <td>Inhaled corticosteroid use and risk COVID-19 r...</td>\n",
              "      <td>http://medrxiv.org/cgi/content/short/2020.06.1...</td>\n",
              "      <td>Background: Early descriptions of the coronavi...</td>\n",
              "      <td>33</td>\n",
              "      <td>['- The OpenSAFELY Collaborative', 'Anna Schul...</td>\n",
              "      <td>{\"\": 1, \"London School of Hygiene and Tropical...</td>\n",
              "      <td>medrxiv</td>\n",
              "    </tr>\n",
              "    <tr>\n",
              "      <th>4</th>\n",
              "      <td>10.1101/2020.06.19.20135533</td>\n",
              "      <td>2020-06-20</td>\n",
              "      <td>The immediate psychological response of the ge...</td>\n",
              "      <td>http://medrxiv.org/cgi/content/short/2020.06.1...</td>\n",
              "      <td>Background: The health and economic burden pan...</td>\n",
              "      <td>4</td>\n",
              "      <td>['Royes Joseph', 'Dhfer Alshayban', 'Jisha M L...</td>\n",
              "      <td>{\"College of Clinical Pharmacy, Imam Abdulrahm...</td>\n",
              "      <td>medrxiv</td>\n",
              "    </tr>\n",
              "  </tbody>\n",
              "</table>\n",
              "</div>"
            ],
            "text/plain": [
              "                           DOI  ...   Source\n",
              "0  10.1101/2020.06.19.20135996  ...  medrxiv\n",
              "1  10.1101/2020.06.18.20135103  ...  medrxiv\n",
              "2  10.1101/2020.06.19.20135905  ...  medrxiv\n",
              "3  10.1101/2020.06.19.20135491  ...  medrxiv\n",
              "4  10.1101/2020.06.19.20135533  ...  medrxiv\n",
              "\n",
              "[5 rows x 9 columns]"
            ]
          },
          "metadata": {},
          "execution_count": 165
        }
      ]
    },
    {
      "cell_type": "code",
      "metadata": {
        "colab": {
          "base_uri": "https://localhost:8080/"
        },
        "id": "t2FRK63qq5OR",
        "outputId": "5a074aea-a900-40b3-af99-a8355041d820"
      },
      "source": [
        "data.Source.value_counts()"
      ],
      "execution_count": 166,
      "outputs": [
        {
          "output_type": "execute_result",
          "data": {
            "text/plain": [
              "medrxiv    4433\n",
              "biorxiv    1102\n",
              "Name: Source, dtype: int64"
            ]
          },
          "metadata": {},
          "execution_count": 166
        }
      ]
    },
    {
      "cell_type": "code",
      "metadata": {
        "colab": {
          "base_uri": "https://localhost:8080/"
        },
        "id": "VZUMbqG2rHrK",
        "outputId": "bb9f1559-6d02-413e-a50e-2106d3cadcf3"
      },
      "source": [
        "data.isnull().sum()"
      ],
      "execution_count": 167,
      "outputs": [
        {
          "output_type": "execute_result",
          "data": {
            "text/plain": [
              "DOI                       0\n",
              "Date of Upload            0\n",
              "Title of preprint         0\n",
              "Preprint Link             0\n",
              "Abstract                  0\n",
              "Number of Authors         0\n",
              "Authors                   0\n",
              "Author(s) Institutions    0\n",
              "Source                    0\n",
              "dtype: int64"
            ]
          },
          "metadata": {},
          "execution_count": 167
        }
      ]
    },
    {
      "cell_type": "code",
      "metadata": {
        "id": "9n4rVXJOrbBv",
        "colab": {
          "base_uri": "https://localhost:8080/"
        },
        "outputId": "825448ff-4c21-42af-e0c5-eaba3ce45d86"
      },
      "source": [
        "data.dtypes"
      ],
      "execution_count": 168,
      "outputs": [
        {
          "output_type": "execute_result",
          "data": {
            "text/plain": [
              "DOI                       object\n",
              "Date of Upload            object\n",
              "Title of preprint         object\n",
              "Preprint Link             object\n",
              "Abstract                  object\n",
              "Number of Authors          int64\n",
              "Authors                   object\n",
              "Author(s) Institutions    object\n",
              "Source                    object\n",
              "dtype: object"
            ]
          },
          "metadata": {},
          "execution_count": 168
        }
      ]
    },
    {
      "cell_type": "code",
      "metadata": {
        "colab": {
          "base_uri": "https://localhost:8080/"
        },
        "id": "hJV-MZXm9h36",
        "outputId": "a61adfed-0170-4825-950f-d854b0515990"
      },
      "source": [
        "df_uniques = data.nunique() \n",
        "# Count number of distinct elements in specified axis. \n",
        "#Return Series with number of distinct elements. Can ignore NaN values.\n",
        "df_uniques"
      ],
      "execution_count": 169,
      "outputs": [
        {
          "output_type": "execute_result",
          "data": {
            "text/plain": [
              "DOI                       5535\n",
              "Date of Upload             151\n",
              "Title of preprint         5532\n",
              "Preprint Link             5535\n",
              "Abstract                  5530\n",
              "Number of Authors           73\n",
              "Authors                   5414\n",
              "Author(s) Institutions    5352\n",
              "Source                       2\n",
              "dtype: int64"
            ]
          },
          "metadata": {},
          "execution_count": 169
        }
      ]
    },
    {
      "cell_type": "code",
      "metadata": {
        "id": "tjJSzNcdre7R",
        "colab": {
          "base_uri": "https://localhost:8080/"
        },
        "outputId": "cc22e3c5-a15d-4f85-faa6-6b60e6e3d425"
      },
      "source": [
        "binary_vals = list(df_uniques[df_uniques == 2].index) # Create alist for our bin_vales (composed of at least two values)\n",
        "binary_vals"
      ],
      "execution_count": 170,
      "outputs": [
        {
          "output_type": "execute_result",
          "data": {
            "text/plain": [
              "['Source']"
            ]
          },
          "metadata": {},
          "execution_count": 170
        }
      ]
    },
    {
      "cell_type": "code",
      "metadata": {
        "id": "7fFH9p4J9nQT"
      },
      "source": [
        "from sklearn.preprocessing import LabelBinarizer"
      ],
      "execution_count": 171,
      "outputs": []
    },
    {
      "cell_type": "code",
      "metadata": {
        "id": "6C36-1fx-G6e"
      },
      "source": [
        "lb = LabelBinarizer()"
      ],
      "execution_count": 172,
      "outputs": []
    },
    {
      "cell_type": "code",
      "metadata": {
        "id": "kbxWdDuu9zRk"
      },
      "source": [
        "for col in binary_vals:\n",
        "  data[col] = lb.fit_transform(data[col])"
      ],
      "execution_count": 173,
      "outputs": []
    },
    {
      "cell_type": "code",
      "metadata": {
        "colab": {
          "base_uri": "https://localhost:8080/"
        },
        "id": "0bjyaqpx-E78",
        "outputId": "c1629959-0794-465b-f69e-4fb7a0efc3ce"
      },
      "source": [
        "data.Source.dtypes"
      ],
      "execution_count": 174,
      "outputs": [
        {
          "output_type": "execute_result",
          "data": {
            "text/plain": [
              "dtype('int64')"
            ]
          },
          "metadata": {},
          "execution_count": 174
        }
      ]
    },
    {
      "cell_type": "code",
      "metadata": {
        "colab": {
          "base_uri": "https://localhost:8080/"
        },
        "id": "L2H1D2DN-NfP",
        "outputId": "e08ab27e-deb5-453b-bb60-b97dcffd7176"
      },
      "source": [
        "data.Source.value_counts()"
      ],
      "execution_count": 175,
      "outputs": [
        {
          "output_type": "execute_result",
          "data": {
            "text/plain": [
              "1    4433\n",
              "0    1102\n",
              "Name: Source, dtype: int64"
            ]
          },
          "metadata": {},
          "execution_count": 175
        }
      ]
    },
    {
      "cell_type": "code",
      "metadata": {
        "colab": {
          "base_uri": "https://localhost:8080/"
        },
        "id": "OvJj_gwR-U_p",
        "outputId": "408e360d-3418-40eb-b829-01a60e7d860c"
      },
      "source": [
        "data.columns"
      ],
      "execution_count": 176,
      "outputs": [
        {
          "output_type": "execute_result",
          "data": {
            "text/plain": [
              "Index(['DOI', 'Date of Upload', 'Title of preprint', 'Preprint Link',\n",
              "       'Abstract', 'Number of Authors', 'Authors', 'Author(s) Institutions',\n",
              "       'Source'],\n",
              "      dtype='object')"
            ]
          },
          "metadata": {},
          "execution_count": 176
        }
      ]
    },
    {
      "cell_type": "code",
      "metadata": {
        "id": "XfyKY7ik-c2Z"
      },
      "source": [
        "data.drop(['DOI', 'Date of Upload', 'Title of preprint', 'Preprint Link', 'Number of Authors', 'Authors', 'Author(s) Institutions'], axis=1, inplace=True)"
      ],
      "execution_count": 177,
      "outputs": []
    },
    {
      "cell_type": "code",
      "metadata": {
        "colab": {
          "base_uri": "https://localhost:8080/",
          "height": 203
        },
        "id": "zGaZ6Ixq-zfx",
        "outputId": "c7a980a1-d0ea-4efb-f46e-92e6bf375061"
      },
      "source": [
        "data.head()"
      ],
      "execution_count": 178,
      "outputs": [
        {
          "output_type": "execute_result",
          "data": {
            "text/html": [
              "<div>\n",
              "<style scoped>\n",
              "    .dataframe tbody tr th:only-of-type {\n",
              "        vertical-align: middle;\n",
              "    }\n",
              "\n",
              "    .dataframe tbody tr th {\n",
              "        vertical-align: top;\n",
              "    }\n",
              "\n",
              "    .dataframe thead th {\n",
              "        text-align: right;\n",
              "    }\n",
              "</style>\n",
              "<table border=\"1\" class=\"dataframe\">\n",
              "  <thead>\n",
              "    <tr style=\"text-align: right;\">\n",
              "      <th></th>\n",
              "      <th>Abstract</th>\n",
              "      <th>Source</th>\n",
              "    </tr>\n",
              "  </thead>\n",
              "  <tbody>\n",
              "    <tr>\n",
              "      <th>0</th>\n",
              "      <td>Aim: To identify Australian primary healthcare...</td>\n",
              "      <td>1</td>\n",
              "    </tr>\n",
              "    <tr>\n",
              "      <th>1</th>\n",
              "      <td>Medical practitioners record the condition sta...</td>\n",
              "      <td>1</td>\n",
              "    </tr>\n",
              "    <tr>\n",
              "      <th>2</th>\n",
              "      <td>Background: Despite being in the 5th month of ...</td>\n",
              "      <td>1</td>\n",
              "    </tr>\n",
              "    <tr>\n",
              "      <th>3</th>\n",
              "      <td>Background: Early descriptions of the coronavi...</td>\n",
              "      <td>1</td>\n",
              "    </tr>\n",
              "    <tr>\n",
              "      <th>4</th>\n",
              "      <td>Background: The health and economic burden pan...</td>\n",
              "      <td>1</td>\n",
              "    </tr>\n",
              "  </tbody>\n",
              "</table>\n",
              "</div>"
            ],
            "text/plain": [
              "                                            Abstract  Source\n",
              "0  Aim: To identify Australian primary healthcare...       1\n",
              "1  Medical practitioners record the condition sta...       1\n",
              "2  Background: Despite being in the 5th month of ...       1\n",
              "3  Background: Early descriptions of the coronavi...       1\n",
              "4  Background: The health and economic burden pan...       1"
            ]
          },
          "metadata": {},
          "execution_count": 178
        }
      ]
    },
    {
      "cell_type": "code",
      "metadata": {
        "colab": {
          "base_uri": "https://localhost:8080/"
        },
        "id": "TkjYaEM2-1Mi",
        "outputId": "b5b0fad3-2aa7-497e-de70-63ffbdad7c3e"
      },
      "source": [
        "data.isnull().sum()"
      ],
      "execution_count": 179,
      "outputs": [
        {
          "output_type": "execute_result",
          "data": {
            "text/plain": [
              "Abstract    0\n",
              "Source      0\n",
              "dtype: int64"
            ]
          },
          "metadata": {},
          "execution_count": 179
        }
      ]
    },
    {
      "cell_type": "code",
      "metadata": {
        "colab": {
          "base_uri": "https://localhost:8080/",
          "height": 297
        },
        "id": "R95D_icg_8A1",
        "outputId": "5e76d3ae-eb48-406d-8b2b-76224d3707f1"
      },
      "source": [
        "counts = data['Source'].value_counts()\n",
        "sns.barplot(x=counts.index, y=counts)\n",
        "plt.xlabel('Source')\n",
        "plt.ylabel('Count')"
      ],
      "execution_count": 180,
      "outputs": [
        {
          "output_type": "execute_result",
          "data": {
            "text/plain": [
              "Text(0, 0.5, 'Count')"
            ]
          },
          "metadata": {},
          "execution_count": 180
        },
        {
          "output_type": "display_data",
          "data": {
            "image/png": "[encoded data removed]",
            "text/plain": [
              "<Figure size 432x288 with 1 Axes>"
            ]
          },
          "metadata": {
            "needs_background": "light"
          }
        }
      ]
    },
    {
      "cell_type": "markdown",
      "metadata": {
        "id": "J4VJAOUCtLS6"
      },
      "source": [
        "#**Text preprocessing:**"
      ]
    },
    {
      "cell_type": "code",
      "metadata": {
        "id": "K4r8IiegtFuI"
      },
      "source": [
        "from tensorflow.keras.preprocessing.text import Tokenizer\n",
        "from tensorflow.keras.preprocessing.sequence import pad_sequences"
      ],
      "execution_count": 148,
      "outputs": []
    },
    {
      "cell_type": "code",
      "metadata": {
        "id": "bcYtmFJttsP1"
      },
      "source": [
        "vocab_size = 20000\n",
        "embedding_dim = 16\n",
        "max_length = 150\n",
        "trunc_type='post'\n",
        "padding_type='post'\n",
        "oov_tok = \"<OOV>\"\n",
        "training_size = 20000"
      ],
      "execution_count": 151,
      "outputs": []
    },
    {
      "cell_type": "code",
      "metadata": {
        "id": "Tw_9lEhftyrU"
      },
      "source": [
        "from sklearn.model_selection import train_test_split\n",
        "\n",
        "X_train, X_test, y_train, y_test = train_test_split(data['Abstract'],data['Source'],test_size = 0.2)"
      ],
      "execution_count": 149,
      "outputs": []
    },
    {
      "cell_type": "code",
      "metadata": {
        "id": "jFonXBPYujCQ"
      },
      "source": [
        "#X_train, X_test, y_train, y_test = X_train.tolist(), X_test.tolist() , y_train.tolist() , y_test.tolist()\n",
        "tokenizer = Tokenizer(num_words=vocab_size, oov_token=oov_tok)\n",
        "tokenizer.fit_on_texts(X_train)\n",
        "\n",
        "word_index = tokenizer.word_index\n",
        "\n",
        "training_sequences = tokenizer.texts_to_sequences(X_train)\n",
        "training_padded = pad_sequences(training_sequences, maxlen=max_length, padding=padding_type, truncating=trunc_type)\n",
        "\n",
        "testing_sequences = tokenizer.texts_to_sequences(X_test)\n",
        "testing_padded = pad_sequences(testing_sequences, maxlen=max_length, padding=padding_type, truncating=trunc_type)"
      ],
      "execution_count": 153,
      "outputs": []
    },
    {
      "cell_type": "code",
      "metadata": {
        "id": "LnskcUCVuxd0"
      },
      "source": [
        "training_padded = np.array(training_padded)\n",
        "training_labels = np.array(y_train)\n",
        "testing_padded = np.array(testing_padded)\n",
        "testing_labels = np.array(y_test)"
      ],
      "execution_count": 154,
      "outputs": []
    },
    {
      "cell_type": "code",
      "metadata": {
        "id": "j8-7eVATu02h"
      },
      "source": [
        "\n",
        "model = tf.keras.Sequential([\n",
        "    tf.keras.layers.Embedding(vocab_size, 64),\n",
        "    tf.keras.layers.Bidirectional(tf.keras.layers.LSTM(64, return_sequences=True)),\n",
        "    tf.keras.layers.Bidirectional(tf.keras.layers.LSTM(32)),\n",
        "    tf.keras.layers.Dense(64, activation='relu'),\n",
        "    tf.keras.layers.Dense(1, activation='sigmoid')\n",
        "])"
      ],
      "execution_count": 157,
      "outputs": []
    },
    {
      "cell_type": "code",
      "metadata": {
        "id": "SpK2BPSqvO_P"
      },
      "source": [
        "model.compile(loss='binary_crossentropy',optimizer='adam',metrics=['accuracy'])"
      ],
      "execution_count": 158,
      "outputs": []
    },
    {
      "cell_type": "code",
      "metadata": {
        "id": "vIegaiG5u9Nl",
        "outputId": "41b0bd5e-95c6-4e61-ad15-2c49f57d41cf",
        "colab": {
          "base_uri": "https://localhost:8080/"
        }
      },
      "source": [
        "model.summary()"
      ],
      "execution_count": 159,
      "outputs": [
        {
          "output_type": "stream",
          "name": "stdout",
          "text": [
            "Model: \"sequential\"\n",
            "_________________________________________________________________\n",
            "Layer (type)                 Output Shape              Param #   \n",
            "=================================================================\n",
            "embedding (Embedding)        (None, None, 64)          1280000   \n",
            "_________________________________________________________________\n",
            "bidirectional (Bidirectional (None, None, 128)         66048     \n",
            "_________________________________________________________________\n",
            "bidirectional_1 (Bidirection (None, 64)                41216     \n",
            "_________________________________________________________________\n",
            "dense (Dense)                (None, 64)                4160      \n",
            "_________________________________________________________________\n",
            "dense_1 (Dense)              (None, 1)                 65        \n",
            "=================================================================\n",
            "Total params: 1,391,489\n",
            "Trainable params: 1,391,489\n",
            "Non-trainable params: 0\n",
            "_________________________________________________________________\n"
          ]
        }
      ]
    },
    {
      "cell_type": "code",
      "metadata": {
        "id": "sMfsYouJx8JX"
      },
      "source": [
        ""
      ],
      "execution_count": null,
      "outputs": []
    }
  ]
}